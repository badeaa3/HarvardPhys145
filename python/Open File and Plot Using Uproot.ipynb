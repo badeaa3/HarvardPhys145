{
 "cells": [
  {
   "cell_type": "markdown",
   "metadata": {},
   "source": [
    "# Introduction to ROOT with uproot"
   ]
  },
  {
   "cell_type": "markdown",
   "metadata": {},
   "source": [
    "Hello everyone! In this notebook we will go through how to open a ROOT file using uproot, pick up data from a TBranch within a TTree, and plot that data using matplotlib. \n",
    "\n",
    "\n",
    "First we need to import the necessary packages: \n",
    "- uproot will be used to interface with the ROOT data files provided by the ATLAS experiment. Documentation can be found here: https://uproot.readthedocs.io/en/latest/ \n",
    "- numpy will be used to perform mathematical operations on arrays\n",
    "- matplotlib will be used to plot our distributions"
   ]
  },
  {
   "cell_type": "code",
   "execution_count": 73,
   "metadata": {},
   "outputs": [],
   "source": [
    "import uproot\n",
    "import numpy as np\n",
    "import matplotlib.pyplot as plt"
   ]
  },
  {
   "cell_type": "markdown",
   "metadata": {},
   "source": [
    "Let's open the data file. Change the path set equal to inFileName to the location of your data file. Then use uproot.open to open the data file. It will open the file into a dictionary format. "
   ]
  },
  {
   "cell_type": "code",
   "execution_count": 10,
   "metadata": {},
   "outputs": [],
   "source": [
    "inFileName = \"../Data/ATLAS/data_A.exactly2lep.root\"\n",
    "file = uproot.open(inFileName)"
   ]
  },
  {
   "cell_type": "markdown",
   "metadata": {},
   "source": [
    "If we've never interacted with the dataset we should take a look at what is there. \n",
    "\n",
    "- ROOT files are generally organized into \"TTrees\" and \"TBranches\". \n",
    "- A TTree is a container for the TBranches, while the TBranches contain the actual data. \n",
    "\n",
    "In the loop below we are inspecting the file opened in the last line above. "
   ]
  },
  {
   "cell_type": "code",
   "execution_count": 30,
   "metadata": {
    "scrolled": true
   },
   "outputs": [
    {
     "name": "stdout",
     "output_type": "stream",
     "text": [
      "Tree Name: b'mini;1'\n",
      "Branches\n",
      "-------------\n",
      "b'runNumber'\n",
      "b'eventNumber'\n",
      "b'channelNumber'\n",
      "b'mcWeight'\n",
      "b'scaleFactor_PILEUP'\n",
      "b'scaleFactor_ELE'\n",
      "b'scaleFactor_MUON'\n",
      "b'scaleFactor_PHOTON'\n",
      "b'scaleFactor_TAU'\n",
      "b'scaleFactor_BTAG'\n",
      "b'scaleFactor_LepTRIGGER'\n",
      "b'scaleFactor_PhotonTRIGGER'\n",
      "b'trigE'\n",
      "b'trigM'\n",
      "b'trigP'\n",
      "b'lep_n'\n",
      "b'lep_truthMatched'\n",
      "b'lep_trigMatched'\n",
      "b'lep_pt'\n",
      "b'lep_eta'\n",
      "b'lep_phi'\n",
      "b'lep_E'\n",
      "b'lep_z0'\n",
      "b'lep_charge'\n",
      "b'lep_type'\n",
      "b'lep_isTightID'\n",
      "b'lep_ptcone30'\n",
      "b'lep_etcone20'\n",
      "b'lep_trackd0pvunbiased'\n",
      "b'lep_tracksigd0pvunbiased'\n",
      "b'met_et'\n",
      "b'met_phi'\n",
      "b'jet_n'\n",
      "b'jet_pt'\n",
      "b'jet_eta'\n",
      "b'jet_phi'\n",
      "b'jet_E'\n",
      "b'jet_jvt'\n",
      "b'jet_trueflav'\n",
      "b'jet_truthMatched'\n",
      "b'jet_MV2c10'\n",
      "b'photon_n'\n",
      "b'photon_truthMatched'\n",
      "b'photon_trigMatched'\n",
      "b'photon_pt'\n",
      "b'photon_eta'\n",
      "b'photon_phi'\n",
      "b'photon_E'\n",
      "b'photon_isTightID'\n",
      "b'photon_ptcone30'\n",
      "b'photon_etcone20'\n",
      "b'photon_convType'\n",
      "b'tau_n'\n",
      "b'tau_pt'\n",
      "b'tau_eta'\n",
      "b'tau_phi'\n",
      "b'tau_E'\n",
      "b'tau_isTightID'\n",
      "b'tau_truthMatched'\n",
      "b'tau_trigMatched'\n",
      "b'tau_nTracks'\n",
      "b'tau_BDTid'\n",
      "b'ditau_m'\n",
      "b'lep_pt_syst'\n",
      "b'met_et_syst'\n",
      "b'jet_pt_syst'\n",
      "b'photon_pt_syst'\n",
      "b'tau_pt_syst'\n",
      "b'XSection'\n",
      "b'SumWeights'\n",
      "b'largeRjet_n'\n",
      "b'largeRjet_pt'\n",
      "b'largeRjet_eta'\n",
      "b'largeRjet_phi'\n",
      "b'largeRjet_E'\n",
      "b'largeRjet_m'\n",
      "b'largeRjet_truthMatched'\n",
      "b'largeRjet_D2'\n",
      "b'largeRjet_tau32'\n",
      "b'largeRjet_pt_syst'\n",
      "b'tau_charge'\n",
      "-------------\n"
     ]
    }
   ],
   "source": [
    "# Check out what is inside of the file\n",
    "for eNum, event in file.items():\n",
    "    print(\"Tree Name: {}\".format(eNum))\n",
    "    print(\"Branches\")\n",
    "    print(\"-------------\")\n",
    "    for tName, tree in event.items():\n",
    "        print(tName)\n",
    "        for bName, branch in tree.items():\n",
    "            print(branch.keys())\n",
    "    print(\"-------------\")"
   ]
  },
  {
   "cell_type": "markdown",
   "metadata": {},
   "source": [
    "The name of the tree is \"mini\". As you can see above, there are several different branches for the tree mini. Some of the branch names might look weird to you. Each branch contains some measurable quantity that we may be interested in. \n",
    "\n",
    "Let's pick up the lepton transverse momentum (pt) data. For funny reasons (taus are complicated), lepton often refers to an electron or muon in our data."
   ]
  },
  {
   "cell_type": "code",
   "execution_count": 70,
   "metadata": {},
   "outputs": [
    {
     "name": "stdout",
     "output_type": "stream",
     "text": [
      "There are 664613 dilepton events in this sample!\n"
     ]
    }
   ],
   "source": [
    "tree    = b'mini;1' \n",
    "branch  = b'lep_pt'\n",
    "lep_pt = file[tree].array(branch)\n",
    "n_lep   = len(lep_pt) \n",
    "print(\"There are {} dilepton events in this sample!\".format(n_lep))"
   ]
  },
  {
   "cell_type": "markdown",
   "metadata": {},
   "source": [
    "Now that we have the data let's make a plot. We'll first make a function to produce matplotlib figures that we can reuse to make other plots. Defining functions in this way will be a useful way for you to not repeat code."
   ]
  },
  {
   "cell_type": "code",
   "execution_count": 75,
   "metadata": {},
   "outputs": [],
   "source": [
    "def make_fig(xTitle=\"xTitle\",yTitle=\"yTitle\"):\n",
    "    fig = plt.figure(figsize=(15,10))\n",
    "\n",
    "    ax = plt.gca()\n",
    "    ax.set_prop_cycle(color=['#002BFF','#A15FFF','#FF0061','#FF8913'])\n",
    "    ax.set_xlabel(xTitle,fontsize=26,labelpad=6)\n",
    "    ax.set_ylabel(yTitle,fontsize=26)\n",
    "    ax.tick_params(labelsize=18, direction='out', length=8, width=2)\n",
    "    ax.yaxis.offsetText.set_fontsize(18)\n",
    "    ax.xaxis.labelpad = 15\n",
    "    ax.yaxis.labelpad = 15\n",
    "    ax.tick_params(axis='both', which='major', labelsize=25)\n",
    "    \n",
    "    return fig, ax"
   ]
  },
  {
   "cell_type": "markdown",
   "metadata": {},
   "source": [
    "Finally let's plot the distribution! In particle physics, we often plot data in histograms."
   ]
  },
  {
   "cell_type": "code",
   "execution_count": 74,
   "metadata": {
    "scrolled": true
   },
   "outputs": [
    {
     "data": {
      "image/png": "[encoded data removed]",
      "text/plain": [
       "<Figure size 1080x720 with 1 Axes>"
      ]
     },
     "metadata": {
      "needs_background": "light"
     },
     "output_type": "display_data"
    }
   ],
   "source": [
    "xtitle  = \"Lepton transverse momentum [MeV]\"\n",
    "ytitle  = \"Number of Leptons\"\n",
    "fig, ax = make_fig(xTitle=xtitle,yTitle=ytitle)\n",
    "nbins   = 50 # number of bins in histogram\n",
    "xlow    = 0\n",
    "xhigh   = 300000\n",
    "bins    = np.linspace(xlow, xhigh,nbins)\n",
    "n, bins, patches = ax.hist(lep_pt.flatten(), bins)"
   ]
  },
  {
   "cell_type": "markdown",
   "metadata": {},
   "source": [
    "The measurable quantity, lepton transverse momentum, is divided into \"bins\" on the x-axis. Each bin here has a width of 6000 MeV. The y-axis of the bin shows the number of leptons which fall in each bin. The size of the bin is important - if it's too big, it might hide features, but if it's too small, the number of leptons in each bin will have a large statistical uncertainty. Pick your bin size wisely! "
   ]
  },
  {
   "cell_type": "code",
   "execution_count": null,
   "metadata": {},
   "outputs": [],
   "source": []
  }
 ],
 "metadata": {
  "kernelspec": {
   "display_name": "Python 3",
   "language": "python",
   "name": "python3"
  },
  "language_info": {
   "codemirror_mode": {
    "name": "ipython",
    "version": 3
   },
   "file_extension": ".py",
   "mimetype": "text/x-python",
   "name": "python",
   "nbconvert_exporter": "python",
   "pygments_lexer": "ipython3",
   "version": "3.8.3"
  }
 },
 "nbformat": 4,
 "nbformat_minor": 4
}
