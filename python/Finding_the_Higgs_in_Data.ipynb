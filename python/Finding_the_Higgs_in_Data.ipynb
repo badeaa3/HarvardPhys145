{
 "cells": [
  {
   "cell_type": "markdown",
   "metadata": {},
   "source": [
    "## Looking for the Higgs boson in 4 lepton final state, data edition"
   ]
  },
  {
   "cell_type": "code",
   "execution_count": 13,
   "metadata": {},
   "outputs": [],
   "source": [
    "import uproot\n",
    "import numpy as np\n",
    "import matplotlib.pyplot as plt\n",
    "\n",
    "file_names = {\"ggH\":\"../data/ATLAS/higgs/mc_345060.ggH125_ZZ4lep.4lep.root\",\n",
    "              \"Zjets\":\"../data/ATLAS/higgs/mc_ZeeZmumu.4lep.root\", \n",
    "              \"diboson\":\"../data/ATLAS/higgs/mc_363490.llll.VV.4lep.root\", \n",
    "              \"ttbar\":\"../data/ATLAS/higgs/mc_410000.ttbar_lep.4lep.root\",\n",
    "              \"data\":\"../data/ATLAS/data.4lep.root\"}\n",
    "files = {}\n",
    "for fname in file_names.keys():\n",
    "    files[fname] = uproot.open(file_names[fname])"
   ]
  },
  {
   "cell_type": "code",
   "execution_count": 77,
   "metadata": {},
   "outputs": [],
   "source": [
    "tree = b'mini;1'\n",
    "branches = [ b'lep_pt', b'lep_eta', \n",
    "             b'lep_phi', b'lep_E',\n",
    "             b'lep_isTightID',b'lep_etcone20',\n",
    "             b'lep_type',b'lep_charge',\n",
    "             b'scaleFactor_MUON',b'scaleFactor_ELE',\n",
    "             b'scaleFactor_PILEUP',b'scaleFactor_LepTRIGGER',\n",
    "             b'mcWeight']\n",
    "kins = {}\n",
    "for fname in file_names.keys():\n",
    "    kins[fname] = {}\n",
    "    for branch in branches:\n",
    "        kins[fname][branch] = files[fname][tree].array(branch)"
   ]
  },
  {
   "cell_type": "code",
   "execution_count": 8,
   "metadata": {},
   "outputs": [],
   "source": [
    "def make_fig(xTitle=\"xTitle\",yTitle=\"yTitle\"):\n",
    "    fig = plt.figure(figsize=(15,10))\n",
    "\n",
    "    ax = plt.gca()\n",
    "    ax.set_prop_cycle(color=['#002BFF','#A15FFF','#FF0061','#FF8913'])\n",
    "    ax.set_xlabel(xTitle,fontsize=26,labelpad=6)\n",
    "    ax.set_ylabel(yTitle,fontsize=26)\n",
    "    ax.tick_params(labelsize=18, direction='out', length=8, width=2)\n",
    "    ax.yaxis.offsetText.set_fontsize(18)\n",
    "    ax.xaxis.labelpad = 15\n",
    "    ax.yaxis.labelpad = 15\n",
    "    ax.tick_params(axis='both', which='major', labelsize=25)\n",
    "    \n",
    "    return fig, ax"
   ]
  },
  {
   "cell_type": "code",
   "execution_count": 16,
   "metadata": {},
   "outputs": [],
   "source": [
    "# convert everything to a more numpy friendly format\n",
    "vars = {}\n",
    "for fname in file_names.keys():\n",
    "    vars[fname] = {}\n",
    "    vars[fname][b'lep_pt']  = np.array([[x[0],x[1],x[2],x[3]] for x in kins[fname][b'lep_pt']]) \n",
    "    vars[fname][b'lep_phi'] = np.array([[x[0],x[1],x[2],x[3]] for x in kins[fname][b'lep_phi']])\n",
    "    vars[fname][b'lep_eta'] = np.array([[x[0],x[1],x[2],x[3]] for x in kins[fname][b'lep_eta']])\n",
    "    vars[fname][b'lep_E']   = np.array([[x[0],x[1],x[2],x[3]] for x in kins[fname][b'lep_E']])\n",
    "    vars[fname][b'lep_charge']   = np.array([[x[0],x[1],x[2],x[3]] for x in kins[fname][b'lep_charge']])\n",
    "    vars[fname][b'lep_type']   = np.array([[x[0],x[1],x[2],x[3]] for x in kins[fname][b'lep_type']])\n",
    "    vars[fname][b'lep_isTightID']   = np.array([[x[0],x[1],x[2],x[3]] for x in kins[fname][b'lep_isTightID']])"
   ]
  },
  {
   "cell_type": "code",
   "execution_count": 93,
   "metadata": {},
   "outputs": [],
   "source": [
    "# Get weights\n",
    "weights = {}\n",
    "for fname in file_names.keys():\n",
    "    sfs = [kins[fname][b'scaleFactor_MUON'],\n",
    "       kins[fname][b'scaleFactor_ELE'],\n",
    "       kins[fname][b'scaleFactor_PILEUP'],\n",
    "       kins[fname][b'scaleFactor_LepTRIGGER'],\n",
    "       kins[fname][b'mcWeight']]\n",
    "    weights[fname] = np.prod(np.vstack(sfs), axis=0)"
   ]
  },
  {
   "cell_type": "code",
   "execution_count": 84,
   "metadata": {},
   "outputs": [],
   "source": [
    "GeVperMeV = 1./1000\n",
    "for fname in file_names.keys():\n",
    "    vars[fname][b'lep_px']     = vars[fname][b'lep_pt']*np.cos ( vars[fname][b'lep_phi']) * GeVperMeV\n",
    "    vars[fname][b'lep_py']     = vars[fname][b'lep_pt']*np.sin ( vars[fname][b'lep_phi']) * GeVperMeV\n",
    "    vars[fname][b'lep_pz']     = vars[fname][b'lep_pt']*np.sinh( vars[fname][b'lep_eta']) * GeVperMeV\n",
    "    vars[fname][b'lep_E_GeV']  = vars[fname][b'lep_E'] * GeVperMeV"
   ]
  },
  {
   "cell_type": "code",
   "execution_count": 86,
   "metadata": {},
   "outputs": [],
   "source": [
    "for fname in file_names.keys():\n",
    "    vars[fname][b'higgs_px'] = np.array([ np.sum(i) for i in vars[fname][b'lep_px'] ] )\n",
    "    vars[fname][b'higgs_py'] = np.array([ np.sum(i) for i in vars[fname][b'lep_py'] ] )\n",
    "    vars[fname][b'higgs_pz'] = np.array([ np.sum(i) for i in vars[fname][b'lep_pz'] ] )\n",
    "    vars[fname][b'higgs_E']  = np.array([ np.sum(i) for i in vars[fname][b'lep_E_GeV'] ] )"
   ]
  },
  {
   "cell_type": "code",
   "execution_count": 24,
   "metadata": {},
   "outputs": [],
   "source": [
    "for fname in file_names.keys():\n",
    "    vars[fname][b'higgs_pt'] = np.sqrt(vars[fname][b'higgs_px']**2+vars[fname][b'higgs_py']**2)\n",
    "    vars[fname][b'higgs_p'] = np.sqrt(vars[fname][b'higgs_pt']**2+vars[fname][b'higgs_pz']**2)\n",
    "    vars[fname][b'higgs_m'] = np.sqrt(vars[fname][b'higgs_E']**2 - vars[fname][b'higgs_p']**2)"
   ]
  },
  {
   "cell_type": "code",
   "execution_count": 87,
   "metadata": {},
   "outputs": [],
   "source": [
    "# let's look at charge and type!\n",
    "for fname in file_names.keys():\n",
    "    vars[fname][b'higgs_charge'] = np.array([ np.sum(i) for i in vars[fname][b'lep_charge'] ] )\n",
    "    vars[fname][b'higgs_type'] = np.array([ np.sum(i) for i in vars[fname][b'lep_type'] ] )\n",
    "    vars[fname][b'higgs_tight'] = np.array([ np.sum(i) for i in vars[fname][b'lep_isTightID'] ] )\n"
   ]
  },
  {
   "cell_type": "markdown",
   "metadata": {},
   "source": [
    "## Apply cuts"
   ]
  },
  {
   "cell_type": "code",
   "execution_count": 88,
   "metadata": {},
   "outputs": [
    {
     "name": "stdout",
     "output_type": "stream",
     "text": [
      "ggH: Efficiency of cut: 0.98\n",
      "Zjets: Efficiency of cut: 0.316\n",
      "diboson: Efficiency of cut: 0.945\n",
      "ttbar: Efficiency of cut: 0.324\n",
      "data: Efficiency of cut: 0.609\n"
     ]
    }
   ],
   "source": [
    "good_higgs_indices = {}\n",
    "# apply a handful of cuts\n",
    "for fname in file_names.keys():\n",
    "    good_higgs_indices[fname] = []\n",
    "    for index in range(len(vars[fname][b'lep_pt'])):\n",
    "        if np.sum(vars[fname][b'lep_charge'][index]) != 0:\n",
    "            continue\n",
    "        elif (np.sum(vars[fname][b'lep_type'][index]) != 44 and \n",
    "            np.sum(vars[fname][b'lep_type'][index]) != 48 and \n",
    "            np.sum(vars[fname][b'lep_type'][index]) != 52):\n",
    "            continue\n",
    "        good_higgs_indices[fname].append(index)\n",
    "    print(\"{}: Efficiency of cut: {:.3}\".format(fname, len(good_higgs_indices[fname])/len(vars[fname][b'lep_isTightID'])))\n",
    "    good_higgs_indices[fname] = np.array(good_higgs_indices[fname])"
   ]
  },
  {
   "cell_type": "code",
   "execution_count": 94,
   "metadata": {},
   "outputs": [],
   "source": [
    "nice_good_evt = {}\n",
    "for fname in file_names.keys():\n",
    "    nice_good_evt[fname] = {}\n",
    "    nice_good_evt[fname][b'higgs_m'] = np.take(vars[fname][b'higgs_m'],good_higgs_indices[fname])\n",
    "    nice_good_evt[fname][\"weights\"] = np.take(weights[fname],good_higgs_indices[fname])"
   ]
  },
  {
   "cell_type": "code",
   "execution_count": 71,
   "metadata": {},
   "outputs": [
    {
     "data": {
      "image/png": "[encoded data removed]",
      "text/plain": [
       "<Figure size 1080x720 with 1 Axes>"
      ]
     },
     "metadata": {
      "needs_background": "light"
     },
     "output_type": "display_data"
    }
   ],
   "source": [
    "# Plot data as points\n",
    "n2, bins2, patches2 = ax.hist(nice_good_evt[\"data\"][b'higgs_m'], \n",
    "                           np.linspace(80,300,30),linewidth=3,\n",
    "                           histtype='step',\n",
    "                           edgecolor=\"black\",linestyle='-',label=\"Data\");\n",
    "fig, ax = make_fig(xTitle=\"$m_{llll}$ [GeV]\",yTitle=\"Events\")\n",
    "bins_mean2 = [0.5 * (bins2[i] + bins2[i+1]) for i in range(len(n2))]\n",
    "err2 = [np.sqrt(pt) for pt in n2]\n",
    "\n",
    "cutplot = plt.errorbar(bins_mean2, n2,yerr=err2,fmt=\"o\")"
   ]
  },
  {
   "cell_type": "code",
   "execution_count": 99,
   "metadata": {
    "scrolled": true
   },
   "outputs": [
    {
     "name": "stderr",
     "output_type": "stream",
     "text": [
      "/Users/annwang/Library/Python/3.8/lib/python/site-packages/numpy/core/_asarray.py:83: VisibleDeprecationWarning: Creating an ndarray from ragged nested sequences (which is a list-or-tuple of lists-or-tuples-or ndarrays with different lengths or shapes) is deprecated. If you meant to do this, you must specify 'dtype=object' when creating the ndarray\n",
      "  return array(a, dtype, copy=False, order=order)\n"
     ]
    },
    {
     "data": {
      "text/plain": [
       "<matplotlib.legend.Legend at 0x11ccda250>"
      ]
     },
     "execution_count": 99,
     "metadata": {},
     "output_type": "execute_result"
    },
    {
     "data": {
      "image/png": "[encoded data removed]",
      "text/plain": [
       "<Figure size 1080x720 with 1 Axes>"
      ]
     },
     "metadata": {
      "needs_background": "light"
     },
     "output_type": "display_data"
    }
   ],
   "source": [
    "# Normalization for each MC\n",
    "wg = {\"Zjets\":0.00013*nice_good_evt[\"Zjets\"][\"weights\"],\n",
    "      \"ttbar\":0.09*nice_good_evt[\"ttbar\"][\"weights\"],\n",
    "      \"diboson\":0.001668*nice_good_evt[\"diboson\"][\"weights\"],\n",
    "      \"ggH\":2.16e-06*nice_good_evt[\"ggH\"][\"weights\"],\n",
    "      \"data\":np.ones(len(nice_good_evt[\"ggH\"][b'higgs_m']))}\n",
    "\n",
    "# Make histogram and extract bins\n",
    "fig, ax = make_fig(xTitle=\"$m_{llll}$ [GeV]\",yTitle=\"Events\")\n",
    "data = [nice_good_evt[\"Zjets\"][b'higgs_m'],\n",
    "        nice_good_evt[\"ttbar\"][b'higgs_m'],\n",
    "        nice_good_evt[\"diboson\"][b'higgs_m'],\n",
    "        nice_good_evt[\"ggH\"][b'higgs_m']]\n",
    "wgts = [wg[\"Zjets\"],wg[\"ttbar\"],wg[\"diboson\"],wg[\"ggH\"]]\n",
    "n, bins, patches = ax.hist(data, \n",
    "                           np.linspace(80,300,30),linewidth=3,\n",
    "                           histtype='stepfilled', stacked=True,\n",
    "                           edgecolor=\"black\",linestyle='-',\n",
    "                           weights=wgts,label=[\"Zjets\",\"ttbar\",\"diboson\",\"signal\"]);\n",
    "cutplot = plt.errorbar(bins_mean2, n2,yerr=err2,fmt=\"o\",color=\"black\")\n",
    "plt.legend(loc=(0.6,0.6),fontsize=\"xx-large\")"
   ]
  },
  {
   "cell_type": "code",
   "execution_count": null,
   "metadata": {},
   "outputs": [],
   "source": []
  }
 ],
 "metadata": {
  "kernelspec": {
   "display_name": "Python 3",
   "language": "python",
   "name": "python3"
  },
  "language_info": {
   "codemirror_mode": {
    "name": "ipython",
    "version": 3
   },
   "file_extension": ".py",
   "mimetype": "text/x-python",
   "name": "python",
   "nbconvert_exporter": "python",
   "pygments_lexer": "ipython3",
   "version": "3.8.3"
  }
 },
 "nbformat": 4,
 "nbformat_minor": 4
}
