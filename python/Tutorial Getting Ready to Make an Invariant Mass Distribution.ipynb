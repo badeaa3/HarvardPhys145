{
 "cells": [
  {
   "cell_type": "markdown",
   "metadata": {},
   "source": [
    "# Tutorial: Getting Ready to Make an Invariant Mass Distribution"
   ]
  },
  {
   "cell_type": "markdown",
   "metadata": {},
   "source": [
    "In the first tutorial we learned how to open a root file and plot branches. This provided you with the skills to plot the E, pt, pz, eta, and phi distributions of the dilepton samples. In the next part of the project we want you to use your skills and knowledge from class to discovery the Z boson by reconstruct the invariant mass distribution. You'll need to use your knowledge of 4-vectors to do this. Once you have the distribution you will want to perform a fit the distribution to a Gaussian to extract the mean and standard deviation. \n",
    "\n",
    "To help you with this, in this tutorial we will go through how to fit to a distribution. "
   ]
  },
  {
   "cell_type": "markdown",
   "metadata": {},
   "source": [
    "# Fit to Distribution"
   ]
  },
  {
   "cell_type": "code",
   "execution_count": 24,
   "metadata": {},
   "outputs": [
    {
     "name": "stdout",
     "output_type": "stream",
     "text": [
      "Fitted mean and standard deviation: 0.03207629396280063, 1.464256200194456\n"
     ]
    },
    {
     "name": "stderr",
     "output_type": "stream",
     "text": [
      "/usr/local/lib/python3.7/site-packages/ipykernel_launcher.py:12: MatplotlibDeprecationWarning: \n",
      "The 'normed' kwarg was deprecated in Matplotlib 2.1 and will be removed in 3.1. Use 'density' instead.\n",
      "  if sys.path[0] == '':\n"
     ]
    },
    {
     "data": {
      "image/png": "[encoded data removed]",
      "text/plain": [
       "<Figure size 432x288 with 1 Axes>"
      ]
     },
     "metadata": {
      "needs_background": "light"
     },
     "output_type": "display_data"
    }
   ],
   "source": [
    "import numpy as np\n",
    "from iminuit import Minuit\n",
    "import matplotlib.pyplot as plt\n",
    "import matplotlib.mlab as mlab\n",
    "from scipy.stats import norm\n",
    "from scipy.optimize import curve_fit\n",
    "\n",
    "# First let's generate a toy gaussian\n",
    "mu = 0\n",
    "sigma = 1.5\n",
    "gaussian = np.random.normal(mu, sigma, 1000)\n",
    "n, bins, patches = plt.hist(gaussian,normed=True) # Normalized to 1. You may not want to do this in other cases.\n",
    "\n",
    "# best fit of data\n",
    "(mu, sigma) = norm.fit(gaussian)\n",
    "print(\"Fitted mean and standard deviation: {}, {}\".format(mu,sigma))\n",
    "\n",
    "# add a 'best fit' line\n",
    "x = np.linspace(-5,5,101)\n",
    "y = norm.pdf( x, mu, sigma)\n",
    "l = plt.plot(x, y, 'r--', linewidth=2)\n"
   ]
  },
  {
   "cell_type": "markdown",
   "metadata": {},
   "source": [
    "# Combining Variables\n",
    "\n",
    "In the ROOT files we have events stored in the branches. For those variables with particle level variables, such as pt, uproot hands us the branches as jagged arrays, or arrays of unequally sized arrays. Each unequally sized array contains the particle level variables of the event. We'll need you to add up the momentum of all of the particles inside of an event array.\n",
    "\n",
    "Look below to see more concretely what this means."
   ]
  },
  {
   "cell_type": "code",
   "execution_count": 26,
   "metadata": {},
   "outputs": [
    {
     "name": "stdout",
     "output_type": "stream",
     "text": [
      "Original branch of events and particles: [[4, 3, 8], [10, 6], [12, 5, 2, 7, 9]]\n",
      "List of particle variables summed for each event: [15 16 35]\n"
     ]
    }
   ],
   "source": [
    "# Example of what a branch could look like\n",
    "pz = [[4, 3, 8], [10, 6], [12, 5, 2, 7, 9]]\n",
    "# Above we see that we have 3 events. They have 3, 2 and 5 particles, respectively. \n",
    "# We will want to sum up the particle values within each event. We can use numpy's sum function within a loop to do this.\n",
    "pz_summed = np.array([ np.sum(i) for i in pz ] )\n",
    "print(\"Original branch of events and particles: {}\".format(pz))\n",
    "print(\"List of particle variables summed for each event: {}\".format(pz_summed))"
   ]
  }
 ],
 "metadata": {
  "kernelspec": {
   "display_name": "Python 3",
   "language": "python",
   "name": "python3"
  },
  "language_info": {
   "codemirror_mode": {
    "name": "ipython",
    "version": 3
   },
   "file_extension": ".py",
   "mimetype": "text/x-python",
   "name": "python",
   "nbconvert_exporter": "python",
   "pygments_lexer": "ipython3",
   "version": "3.7.6"
  }
 },
 "nbformat": 4,
 "nbformat_minor": 4
}
