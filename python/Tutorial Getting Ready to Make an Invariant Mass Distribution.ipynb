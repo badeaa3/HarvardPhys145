{
 "cells": [
  {
   "cell_type": "markdown",
   "metadata": {},
   "source": [
    "# Tutorial: Getting Ready to Make an Invariant Mass Distribution"
   ]
  },
  {
   "cell_type": "markdown",
   "metadata": {},
   "source": [
    "In the first tutorial we learned how to open a root file and plot branches. This provided you with the skills to plot the E, pt, pz, eta, and phi distributions of the dilepton samples. In the next part of the project we want you to use your skills and knowledge from class to discovery the Z boson by reconstructing the invariant mass distribution. Once you have the distribution you will want to perform a fit the distribution to extract some parameters about the distribution.\n",
    "\n",
    "To help you with this, in this tutorial we will go through how to fit to a distribution. "
   ]
  },
  {
   "cell_type": "markdown",
   "metadata": {},
   "source": [
    "# Fitting to a Distribution"
   ]
  },
  {
   "cell_type": "code",
   "execution_count": 5,
   "metadata": {},
   "outputs": [
    {
     "data": {
      "image/png": "[encoded data removed]",
      "text/plain": [
       "<Figure size 432x288 with 1 Axes>"
      ]
     },
     "metadata": {
      "needs_background": "light"
     },
     "output_type": "display_data"
    }
   ],
   "source": [
    "import numpy as np\n",
    "import matplotlib.pyplot as plt\n",
    "from scipy.optimize import curve_fit\n",
    "\n",
    "# First let's randomly sample events from a normal, or Gaussian distribution.\n",
    "\n",
    "# Parameters of gaussian\n",
    "mu = 0\n",
    "sigma = 1.5\n",
    "\n",
    "gaussian = np.random.normal(mu, sigma, 1000)"
   ]
  },
  {
   "cell_type": "code",
   "execution_count": 9,
   "metadata": {},
   "outputs": [
    {
     "name": "stdout",
     "output_type": "stream",
     "text": [
      "Fitted mean and standard deviation: -0.05489137699583772, 1.471082545012795\n"
     ]
    },
    {
     "data": {
      "image/png": "[encoded data removed]",
      "text/plain": [
       "<Figure size 432x288 with 1 Axes>"
      ]
     },
     "metadata": {
      "needs_background": "light"
     },
     "output_type": "display_data"
    }
   ],
   "source": [
    "# Now let's plot and fit the data\n",
    "n, bins, patches = plt.hist(gaussian,density=True) \n",
    "# Note: density = True normalizes the distribution to have integral = 1. \n",
    "# You may not want to do this in other cases.\n",
    "\n",
    "# Let's then fit the data\n",
    "(mu, sigma) = norm.fit(gaussian)\n",
    "print(\"Fitted mean and standard deviation: {}, {}\".format(mu,sigma))\n",
    "\n",
    "# add a 'best fit' line\n",
    "x = np.linspace(-5,5,101)\n",
    "y = norm.pdf( x, mu, sigma)\n",
    "l = plt.plot(x, y, 'r--', linewidth=2)"
   ]
  },
  {
   "cell_type": "markdown",
   "metadata": {},
   "source": [
    "# Combining Variables\n",
    "\n",
    "In the ROOT files we have events stored in the branches. For those variables with particle level variables, such as pT, uproot hands us the branches as jagged arrays, or arrays of unequally sized arrays. Each unequally sized array contains the particle level variables of the event. In order to plot some of the distributions, you may need to add up the momenta, for example, of two particles in the same event.\n",
    "\n",
    "Look below to see more concretely what this means."
   ]
  },
  {
   "cell_type": "code",
   "execution_count": 13,
   "metadata": {},
   "outputs": [
    {
     "name": "stdout",
     "output_type": "stream",
     "text": [
      "Original branch of events and particles: [[4, 3, 8], [10, 6], [12, 5, 2, 7, 9]]\n",
      "List of particle variables summed for each event: [15 16 35]\n"
     ]
    }
   ],
   "source": [
    "# Example of what an array from a branch could look like\n",
    "pz = [[4, 3, 8], [10, 6], [12, 5, 2, 7, 9]]\n",
    "# Above we see that we have 3 events. They have 3, 2 and 5 particles, respectively. \n",
    "\n",
    "# We will want to sum up the particle values within each event. We can use numpy's sum function within a loop to do this.\n",
    "pz_summed = np.array([ np.sum(i) for i in pz ] )\n",
    "print(\"Original branch of events and particles: {}\".format(pz))\n",
    "print(\"List of particle variables summed for each event: {}\".format(pz_summed))"
   ]
  },
  {
   "cell_type": "code",
   "execution_count": null,
   "metadata": {},
   "outputs": [],
   "source": []
  }
 ],
 "metadata": {
  "kernelspec": {
   "display_name": "Python 3",
   "language": "python",
   "name": "python3"
  },
  "language_info": {
   "codemirror_mode": {
    "name": "ipython",
    "version": 3
   },
   "file_extension": ".py",
   "mimetype": "text/x-python",
   "name": "python",
   "nbconvert_exporter": "python",
   "pygments_lexer": "ipython3",
   "version": "3.8.3"
  }
 },
 "nbformat": 4,
 "nbformat_minor": 4
}
